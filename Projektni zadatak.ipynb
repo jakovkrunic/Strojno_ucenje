{
 "cells": [
  {
   "cell_type": "markdown",
   "metadata": {},
   "source": [
    "# Predviđanje uspjeha bankarskog marketinga\n",
    "\n",
    "### Davorin Gradečak, Petra Jambriško, Jakov Krunić\n",
    "\n",
    "lipanj 2020.\n"
   ]
  },
  {
   "cell_type": "markdown",
   "metadata": {},
   "source": [
    "## Uređivanje podataka"
   ]
  },
  {
   "cell_type": "code",
   "execution_count": 1,
   "metadata": {},
   "outputs": [],
   "source": [
    "import pandas as pd\n",
    "import numpy as np\n",
    "import matplotlib.pyplot as plt \n",
    "import seaborn as sns\n",
    "import sklearn.preprocessing as preprocessing\n",
    "\n",
    "%matplotlib inline"
   ]
  },
  {
   "cell_type": "code",
   "execution_count": 2,
   "metadata": {},
   "outputs": [],
   "source": [
    "from sklearn import metrics\n",
    "from sklearn.metrics import roc_auc_score, roc_curve\n",
    "from sklearn.linear_model import LogisticRegression\n",
    "from sklearn.metrics import confusion_matrix, classification_report\n",
    "from sklearn.metrics import precision_recall_curve\n",
    "from sklearn.metrics import auc\n",
    "from sklearn.utils import resample\n",
    "from sklearn.metrics import accuracy_score\n",
    "from sklearn.metrics import roc_auc_score\n",
    "\n",
    "from sklearn.ensemble import RandomForestClassifier\n",
    "from sklearn import tree\n",
    "from sklearn.model_selection import train_test_split\n",
    "\n",
    "from sklearn.model_selection import KFold\n",
    "from sklearn.model_selection import cross_val_score\n",
    "\n",
    "from numpy import mean\n",
    "from sklearn.datasets import make_classification\n",
    "from sklearn.model_selection import cross_val_score\n",
    "from sklearn.model_selection import RepeatedStratifiedKFold"
   ]
  },
  {
   "cell_type": "code",
   "execution_count": 3,
   "metadata": {},
   "outputs": [],
   "source": [
    "train = pd.read_csv('bank-additional-full.csv', sep=';')\n",
    "test = pd.read_csv('bank-additional.csv', sep=';')"
   ]
  },
  {
   "cell_type": "code",
   "execution_count": 4,
   "metadata": {},
   "outputs": [
    {
     "data": {
      "text/plain": [
       "(41188, 21)"
      ]
     },
     "execution_count": 4,
     "metadata": {},
     "output_type": "execute_result"
    }
   ],
   "source": [
    "train.shape"
   ]
  },
  {
   "cell_type": "code",
   "execution_count": 5,
   "metadata": {},
   "outputs": [
    {
     "data": {
      "text/html": [
       "<div>\n",
       "<style scoped>\n",
       "    .dataframe tbody tr th:only-of-type {\n",
       "        vertical-align: middle;\n",
       "    }\n",
       "\n",
       "    .dataframe tbody tr th {\n",
       "        vertical-align: top;\n",
       "    }\n",
       "\n",
       "    .dataframe thead th {\n",
       "        text-align: right;\n",
       "    }\n",
       "</style>\n",
       "<table border=\"1\" class=\"dataframe\">\n",
       "  <thead>\n",
       "    <tr style=\"text-align: right;\">\n",
       "      <th></th>\n",
       "      <th>age</th>\n",
       "      <th>job</th>\n",
       "      <th>marital</th>\n",
       "      <th>education</th>\n",
       "      <th>default</th>\n",
       "      <th>housing</th>\n",
       "      <th>loan</th>\n",
       "      <th>contact</th>\n",
       "      <th>month</th>\n",
       "      <th>day_of_week</th>\n",
       "      <th>...</th>\n",
       "      <th>campaign</th>\n",
       "      <th>pdays</th>\n",
       "      <th>previous</th>\n",
       "      <th>poutcome</th>\n",
       "      <th>emp.var.rate</th>\n",
       "      <th>cons.price.idx</th>\n",
       "      <th>cons.conf.idx</th>\n",
       "      <th>euribor3m</th>\n",
       "      <th>nr.employed</th>\n",
       "      <th>y</th>\n",
       "    </tr>\n",
       "  </thead>\n",
       "  <tbody>\n",
       "    <tr>\n",
       "      <th>0</th>\n",
       "      <td>56</td>\n",
       "      <td>housemaid</td>\n",
       "      <td>married</td>\n",
       "      <td>basic.4y</td>\n",
       "      <td>no</td>\n",
       "      <td>no</td>\n",
       "      <td>no</td>\n",
       "      <td>telephone</td>\n",
       "      <td>may</td>\n",
       "      <td>mon</td>\n",
       "      <td>...</td>\n",
       "      <td>1</td>\n",
       "      <td>999</td>\n",
       "      <td>0</td>\n",
       "      <td>nonexistent</td>\n",
       "      <td>1.1</td>\n",
       "      <td>93.994</td>\n",
       "      <td>-36.4</td>\n",
       "      <td>4.857</td>\n",
       "      <td>5191.0</td>\n",
       "      <td>no</td>\n",
       "    </tr>\n",
       "    <tr>\n",
       "      <th>1</th>\n",
       "      <td>57</td>\n",
       "      <td>services</td>\n",
       "      <td>married</td>\n",
       "      <td>high.school</td>\n",
       "      <td>unknown</td>\n",
       "      <td>no</td>\n",
       "      <td>no</td>\n",
       "      <td>telephone</td>\n",
       "      <td>may</td>\n",
       "      <td>mon</td>\n",
       "      <td>...</td>\n",
       "      <td>1</td>\n",
       "      <td>999</td>\n",
       "      <td>0</td>\n",
       "      <td>nonexistent</td>\n",
       "      <td>1.1</td>\n",
       "      <td>93.994</td>\n",
       "      <td>-36.4</td>\n",
       "      <td>4.857</td>\n",
       "      <td>5191.0</td>\n",
       "      <td>no</td>\n",
       "    </tr>\n",
       "    <tr>\n",
       "      <th>2</th>\n",
       "      <td>37</td>\n",
       "      <td>services</td>\n",
       "      <td>married</td>\n",
       "      <td>high.school</td>\n",
       "      <td>no</td>\n",
       "      <td>yes</td>\n",
       "      <td>no</td>\n",
       "      <td>telephone</td>\n",
       "      <td>may</td>\n",
       "      <td>mon</td>\n",
       "      <td>...</td>\n",
       "      <td>1</td>\n",
       "      <td>999</td>\n",
       "      <td>0</td>\n",
       "      <td>nonexistent</td>\n",
       "      <td>1.1</td>\n",
       "      <td>93.994</td>\n",
       "      <td>-36.4</td>\n",
       "      <td>4.857</td>\n",
       "      <td>5191.0</td>\n",
       "      <td>no</td>\n",
       "    </tr>\n",
       "    <tr>\n",
       "      <th>3</th>\n",
       "      <td>40</td>\n",
       "      <td>admin.</td>\n",
       "      <td>married</td>\n",
       "      <td>basic.6y</td>\n",
       "      <td>no</td>\n",
       "      <td>no</td>\n",
       "      <td>no</td>\n",
       "      <td>telephone</td>\n",
       "      <td>may</td>\n",
       "      <td>mon</td>\n",
       "      <td>...</td>\n",
       "      <td>1</td>\n",
       "      <td>999</td>\n",
       "      <td>0</td>\n",
       "      <td>nonexistent</td>\n",
       "      <td>1.1</td>\n",
       "      <td>93.994</td>\n",
       "      <td>-36.4</td>\n",
       "      <td>4.857</td>\n",
       "      <td>5191.0</td>\n",
       "      <td>no</td>\n",
       "    </tr>\n",
       "    <tr>\n",
       "      <th>4</th>\n",
       "      <td>56</td>\n",
       "      <td>services</td>\n",
       "      <td>married</td>\n",
       "      <td>high.school</td>\n",
       "      <td>no</td>\n",
       "      <td>no</td>\n",
       "      <td>yes</td>\n",
       "      <td>telephone</td>\n",
       "      <td>may</td>\n",
       "      <td>mon</td>\n",
       "      <td>...</td>\n",
       "      <td>1</td>\n",
       "      <td>999</td>\n",
       "      <td>0</td>\n",
       "      <td>nonexistent</td>\n",
       "      <td>1.1</td>\n",
       "      <td>93.994</td>\n",
       "      <td>-36.4</td>\n",
       "      <td>4.857</td>\n",
       "      <td>5191.0</td>\n",
       "      <td>no</td>\n",
       "    </tr>\n",
       "  </tbody>\n",
       "</table>\n",
       "<p>5 rows × 21 columns</p>\n",
       "</div>"
      ],
      "text/plain": [
       "   age        job  marital    education  default housing loan    contact  \\\n",
       "0   56  housemaid  married     basic.4y       no      no   no  telephone   \n",
       "1   57   services  married  high.school  unknown      no   no  telephone   \n",
       "2   37   services  married  high.school       no     yes   no  telephone   \n",
       "3   40     admin.  married     basic.6y       no      no   no  telephone   \n",
       "4   56   services  married  high.school       no      no  yes  telephone   \n",
       "\n",
       "  month day_of_week  ...  campaign  pdays  previous     poutcome emp.var.rate  \\\n",
       "0   may         mon  ...         1    999         0  nonexistent          1.1   \n",
       "1   may         mon  ...         1    999         0  nonexistent          1.1   \n",
       "2   may         mon  ...         1    999         0  nonexistent          1.1   \n",
       "3   may         mon  ...         1    999         0  nonexistent          1.1   \n",
       "4   may         mon  ...         1    999         0  nonexistent          1.1   \n",
       "\n",
       "   cons.price.idx  cons.conf.idx  euribor3m  nr.employed   y  \n",
       "0          93.994          -36.4      4.857       5191.0  no  \n",
       "1          93.994          -36.4      4.857       5191.0  no  \n",
       "2          93.994          -36.4      4.857       5191.0  no  \n",
       "3          93.994          -36.4      4.857       5191.0  no  \n",
       "4          93.994          -36.4      4.857       5191.0  no  \n",
       "\n",
       "[5 rows x 21 columns]"
      ]
     },
     "execution_count": 5,
     "metadata": {},
     "output_type": "execute_result"
    }
   ],
   "source": [
    "train.head()"
   ]
  },
  {
   "cell_type": "markdown",
   "metadata": {},
   "source": [
    "Binarni klasifikator zahtijeva numeričke vrijednosti tako da ćemo vrijednosti tog atributa promijeniti. Preslikavamo 'no' u 0, a 'yes' u 1."
   ]
  },
  {
   "cell_type": "code",
   "execution_count": 6,
   "metadata": {},
   "outputs": [],
   "source": [
    "map = {'no' : 0, 'yes' : 1}\n",
    "train = train.replace({'y' : map})\n",
    "test = test.replace({'y' : map})"
   ]
  },
  {
   "cell_type": "markdown",
   "metadata": {},
   "source": [
    "Uočavamo da nigdje nema nedostajućih vrijednosti. "
   ]
  },
  {
   "cell_type": "markdown",
   "metadata": {},
   "source": [
    "Zatim uklanjamo podatke koji su duplicirani."
   ]
  },
  {
   "cell_type": "code",
   "execution_count": 7,
   "metadata": {},
   "outputs": [
    {
     "data": {
      "text/plain": [
       "(41176, 21)"
      ]
     },
     "execution_count": 7,
     "metadata": {},
     "output_type": "execute_result"
    }
   ],
   "source": [
    "train = train.drop_duplicates()\n",
    "train.shape"
   ]
  },
  {
   "cell_type": "markdown",
   "metadata": {},
   "source": [
    "Dakle izbacili smo 12 nepotrebnih redaka."
   ]
  },
  {
   "cell_type": "markdown",
   "metadata": {},
   "source": [
    "## One Hot Encoding"
   ]
  },
  {
   "cell_type": "markdown",
   "metadata": {},
   "source": [
    "Da bismo mogli primjenjivati modele strojnog učenja na podatke, moramo napraviti takozvani 'encoding' kategorijskih varijabli. Koristit ćemo One Hot Encoding."
   ]
  },
  {
   "cell_type": "code",
   "execution_count": 8,
   "metadata": {},
   "outputs": [
    {
     "data": {
      "text/plain": [
       "53"
      ]
     },
     "execution_count": 8,
     "metadata": {},
     "output_type": "execute_result"
    }
   ],
   "source": [
    "from sklearn.preprocessing import OneHotEncoder\n",
    "train2 = train[['job','marital','education','default','housing',\n",
    "                   'loan','contact','month','day_of_week','poutcome']]\n",
    "test2 = test[['job','marital','education','default','housing',\n",
    "                   'loan','contact','month','day_of_week','poutcome']]\n",
    "ohe = OneHotEncoder(sparse=False, handle_unknown='ignore')\n",
    "train_ohe = ohe.fit_transform(train2)\n",
    "np.size(train_ohe,1)"
   ]
  },
  {
   "cell_type": "code",
   "execution_count": 9,
   "metadata": {},
   "outputs": [
    {
     "data": {
      "text/plain": [
       "53"
      ]
     },
     "execution_count": 9,
     "metadata": {},
     "output_type": "execute_result"
    }
   ],
   "source": [
    "test_ohe = ohe.fit_transform(test2)\n",
    "np.size(test_ohe,1)"
   ]
  },
  {
   "cell_type": "code",
   "execution_count": 10,
   "metadata": {},
   "outputs": [],
   "source": [
    "train3 = train.drop('y',axis=1)\n",
    "train3 = train3[['age','duration','campaign','pdays','previous','emp.var.rate',\n",
    "                'cons.price.idx','cons.conf.idx','euribor3m','nr.employed']]\n",
    "test3 = test.drop('y',axis=1)\n",
    "test3 = test3[['age','duration','campaign','pdays','previous','emp.var.rate',\n",
    "                'cons.price.idx','cons.conf.idx','euribor3m','nr.employed']]"
   ]
  },
  {
   "cell_type": "code",
   "execution_count": 11,
   "metadata": {},
   "outputs": [
    {
     "data": {
      "text/html": [
       "<div>\n",
       "<style scoped>\n",
       "    .dataframe tbody tr th:only-of-type {\n",
       "        vertical-align: middle;\n",
       "    }\n",
       "\n",
       "    .dataframe tbody tr th {\n",
       "        vertical-align: top;\n",
       "    }\n",
       "\n",
       "    .dataframe thead th {\n",
       "        text-align: right;\n",
       "    }\n",
       "</style>\n",
       "<table border=\"1\" class=\"dataframe\">\n",
       "  <thead>\n",
       "    <tr style=\"text-align: right;\">\n",
       "      <th></th>\n",
       "      <th>age</th>\n",
       "      <th>duration</th>\n",
       "      <th>campaign</th>\n",
       "      <th>pdays</th>\n",
       "      <th>previous</th>\n",
       "      <th>emp.var.rate</th>\n",
       "      <th>cons.price.idx</th>\n",
       "      <th>cons.conf.idx</th>\n",
       "      <th>euribor3m</th>\n",
       "      <th>nr.employed</th>\n",
       "      <th>...</th>\n",
       "      <th>column43</th>\n",
       "      <th>column44</th>\n",
       "      <th>column45</th>\n",
       "      <th>column46</th>\n",
       "      <th>column47</th>\n",
       "      <th>column48</th>\n",
       "      <th>column49</th>\n",
       "      <th>column50</th>\n",
       "      <th>column51</th>\n",
       "      <th>column52</th>\n",
       "    </tr>\n",
       "  </thead>\n",
       "  <tbody>\n",
       "    <tr>\n",
       "      <th>0</th>\n",
       "      <td>56</td>\n",
       "      <td>261</td>\n",
       "      <td>1</td>\n",
       "      <td>999</td>\n",
       "      <td>0</td>\n",
       "      <td>1.1</td>\n",
       "      <td>93.994</td>\n",
       "      <td>-36.4</td>\n",
       "      <td>4.857</td>\n",
       "      <td>5191.0</td>\n",
       "      <td>...</td>\n",
       "      <td>0.0</td>\n",
       "      <td>0.0</td>\n",
       "      <td>0.0</td>\n",
       "      <td>1.0</td>\n",
       "      <td>0.0</td>\n",
       "      <td>0.0</td>\n",
       "      <td>0.0</td>\n",
       "      <td>0.0</td>\n",
       "      <td>1.0</td>\n",
       "      <td>0.0</td>\n",
       "    </tr>\n",
       "    <tr>\n",
       "      <th>1</th>\n",
       "      <td>57</td>\n",
       "      <td>149</td>\n",
       "      <td>1</td>\n",
       "      <td>999</td>\n",
       "      <td>0</td>\n",
       "      <td>1.1</td>\n",
       "      <td>93.994</td>\n",
       "      <td>-36.4</td>\n",
       "      <td>4.857</td>\n",
       "      <td>5191.0</td>\n",
       "      <td>...</td>\n",
       "      <td>0.0</td>\n",
       "      <td>0.0</td>\n",
       "      <td>0.0</td>\n",
       "      <td>1.0</td>\n",
       "      <td>0.0</td>\n",
       "      <td>0.0</td>\n",
       "      <td>0.0</td>\n",
       "      <td>0.0</td>\n",
       "      <td>1.0</td>\n",
       "      <td>0.0</td>\n",
       "    </tr>\n",
       "    <tr>\n",
       "      <th>2</th>\n",
       "      <td>37</td>\n",
       "      <td>226</td>\n",
       "      <td>1</td>\n",
       "      <td>999</td>\n",
       "      <td>0</td>\n",
       "      <td>1.1</td>\n",
       "      <td>93.994</td>\n",
       "      <td>-36.4</td>\n",
       "      <td>4.857</td>\n",
       "      <td>5191.0</td>\n",
       "      <td>...</td>\n",
       "      <td>0.0</td>\n",
       "      <td>0.0</td>\n",
       "      <td>0.0</td>\n",
       "      <td>1.0</td>\n",
       "      <td>0.0</td>\n",
       "      <td>0.0</td>\n",
       "      <td>0.0</td>\n",
       "      <td>0.0</td>\n",
       "      <td>1.0</td>\n",
       "      <td>0.0</td>\n",
       "    </tr>\n",
       "    <tr>\n",
       "      <th>3</th>\n",
       "      <td>40</td>\n",
       "      <td>151</td>\n",
       "      <td>1</td>\n",
       "      <td>999</td>\n",
       "      <td>0</td>\n",
       "      <td>1.1</td>\n",
       "      <td>93.994</td>\n",
       "      <td>-36.4</td>\n",
       "      <td>4.857</td>\n",
       "      <td>5191.0</td>\n",
       "      <td>...</td>\n",
       "      <td>0.0</td>\n",
       "      <td>0.0</td>\n",
       "      <td>0.0</td>\n",
       "      <td>1.0</td>\n",
       "      <td>0.0</td>\n",
       "      <td>0.0</td>\n",
       "      <td>0.0</td>\n",
       "      <td>0.0</td>\n",
       "      <td>1.0</td>\n",
       "      <td>0.0</td>\n",
       "    </tr>\n",
       "    <tr>\n",
       "      <th>4</th>\n",
       "      <td>56</td>\n",
       "      <td>307</td>\n",
       "      <td>1</td>\n",
       "      <td>999</td>\n",
       "      <td>0</td>\n",
       "      <td>1.1</td>\n",
       "      <td>93.994</td>\n",
       "      <td>-36.4</td>\n",
       "      <td>4.857</td>\n",
       "      <td>5191.0</td>\n",
       "      <td>...</td>\n",
       "      <td>0.0</td>\n",
       "      <td>0.0</td>\n",
       "      <td>0.0</td>\n",
       "      <td>1.0</td>\n",
       "      <td>0.0</td>\n",
       "      <td>0.0</td>\n",
       "      <td>0.0</td>\n",
       "      <td>0.0</td>\n",
       "      <td>1.0</td>\n",
       "      <td>0.0</td>\n",
       "    </tr>\n",
       "  </tbody>\n",
       "</table>\n",
       "<p>5 rows × 63 columns</p>\n",
       "</div>"
      ],
      "text/plain": [
       "   age  duration  campaign  pdays  previous  emp.var.rate  cons.price.idx  \\\n",
       "0   56       261         1    999         0           1.1          93.994   \n",
       "1   57       149         1    999         0           1.1          93.994   \n",
       "2   37       226         1    999         0           1.1          93.994   \n",
       "3   40       151         1    999         0           1.1          93.994   \n",
       "4   56       307         1    999         0           1.1          93.994   \n",
       "\n",
       "   cons.conf.idx  euribor3m  nr.employed  ...  column43  column44  column45  \\\n",
       "0          -36.4      4.857       5191.0  ...       0.0       0.0       0.0   \n",
       "1          -36.4      4.857       5191.0  ...       0.0       0.0       0.0   \n",
       "2          -36.4      4.857       5191.0  ...       0.0       0.0       0.0   \n",
       "3          -36.4      4.857       5191.0  ...       0.0       0.0       0.0   \n",
       "4          -36.4      4.857       5191.0  ...       0.0       0.0       0.0   \n",
       "\n",
       "   column46  column47  column48  column49  column50  column51  column52  \n",
       "0       1.0       0.0       0.0       0.0       0.0       1.0       0.0  \n",
       "1       1.0       0.0       0.0       0.0       0.0       1.0       0.0  \n",
       "2       1.0       0.0       0.0       0.0       0.0       1.0       0.0  \n",
       "3       1.0       0.0       0.0       0.0       0.0       1.0       0.0  \n",
       "4       1.0       0.0       0.0       0.0       0.0       1.0       0.0  \n",
       "\n",
       "[5 rows x 63 columns]"
      ]
     },
     "execution_count": 11,
     "metadata": {},
     "output_type": "execute_result"
    }
   ],
   "source": [
    "for i in range(0,53):\n",
    "    columni=\"column\"+str(i)\n",
    "    train3[columni] = train_ohe[:,i]\n",
    "    test3[columni] = test_ohe[:,i]\n",
    "    \n",
    "train3.head()"
   ]
  },
  {
   "cell_type": "code",
   "execution_count": 12,
   "metadata": {},
   "outputs": [
    {
     "data": {
      "text/html": [
       "<div>\n",
       "<style scoped>\n",
       "    .dataframe tbody tr th:only-of-type {\n",
       "        vertical-align: middle;\n",
       "    }\n",
       "\n",
       "    .dataframe tbody tr th {\n",
       "        vertical-align: top;\n",
       "    }\n",
       "\n",
       "    .dataframe thead th {\n",
       "        text-align: right;\n",
       "    }\n",
       "</style>\n",
       "<table border=\"1\" class=\"dataframe\">\n",
       "  <thead>\n",
       "    <tr style=\"text-align: right;\">\n",
       "      <th></th>\n",
       "      <th>age</th>\n",
       "      <th>duration</th>\n",
       "      <th>campaign</th>\n",
       "      <th>pdays</th>\n",
       "      <th>previous</th>\n",
       "      <th>emp.var.rate</th>\n",
       "      <th>cons.price.idx</th>\n",
       "      <th>cons.conf.idx</th>\n",
       "      <th>euribor3m</th>\n",
       "      <th>nr.employed</th>\n",
       "      <th>...</th>\n",
       "      <th>column43</th>\n",
       "      <th>column44</th>\n",
       "      <th>column45</th>\n",
       "      <th>column46</th>\n",
       "      <th>column47</th>\n",
       "      <th>column48</th>\n",
       "      <th>column49</th>\n",
       "      <th>column50</th>\n",
       "      <th>column51</th>\n",
       "      <th>column52</th>\n",
       "    </tr>\n",
       "  </thead>\n",
       "  <tbody>\n",
       "    <tr>\n",
       "      <th>0</th>\n",
       "      <td>30</td>\n",
       "      <td>487</td>\n",
       "      <td>2</td>\n",
       "      <td>999</td>\n",
       "      <td>0</td>\n",
       "      <td>-1.8</td>\n",
       "      <td>92.893</td>\n",
       "      <td>-46.2</td>\n",
       "      <td>1.313</td>\n",
       "      <td>5099.1</td>\n",
       "      <td>...</td>\n",
       "      <td>0.0</td>\n",
       "      <td>0.0</td>\n",
       "      <td>1.0</td>\n",
       "      <td>0.0</td>\n",
       "      <td>0.0</td>\n",
       "      <td>0.0</td>\n",
       "      <td>0.0</td>\n",
       "      <td>0.0</td>\n",
       "      <td>1.0</td>\n",
       "      <td>0.0</td>\n",
       "    </tr>\n",
       "    <tr>\n",
       "      <th>1</th>\n",
       "      <td>39</td>\n",
       "      <td>346</td>\n",
       "      <td>4</td>\n",
       "      <td>999</td>\n",
       "      <td>0</td>\n",
       "      <td>1.1</td>\n",
       "      <td>93.994</td>\n",
       "      <td>-36.4</td>\n",
       "      <td>4.855</td>\n",
       "      <td>5191.0</td>\n",
       "      <td>...</td>\n",
       "      <td>0.0</td>\n",
       "      <td>0.0</td>\n",
       "      <td>1.0</td>\n",
       "      <td>0.0</td>\n",
       "      <td>0.0</td>\n",
       "      <td>0.0</td>\n",
       "      <td>0.0</td>\n",
       "      <td>0.0</td>\n",
       "      <td>1.0</td>\n",
       "      <td>0.0</td>\n",
       "    </tr>\n",
       "    <tr>\n",
       "      <th>2</th>\n",
       "      <td>25</td>\n",
       "      <td>227</td>\n",
       "      <td>1</td>\n",
       "      <td>999</td>\n",
       "      <td>0</td>\n",
       "      <td>1.4</td>\n",
       "      <td>94.465</td>\n",
       "      <td>-41.8</td>\n",
       "      <td>4.962</td>\n",
       "      <td>5228.1</td>\n",
       "      <td>...</td>\n",
       "      <td>0.0</td>\n",
       "      <td>0.0</td>\n",
       "      <td>0.0</td>\n",
       "      <td>0.0</td>\n",
       "      <td>0.0</td>\n",
       "      <td>0.0</td>\n",
       "      <td>1.0</td>\n",
       "      <td>0.0</td>\n",
       "      <td>1.0</td>\n",
       "      <td>0.0</td>\n",
       "    </tr>\n",
       "    <tr>\n",
       "      <th>3</th>\n",
       "      <td>38</td>\n",
       "      <td>17</td>\n",
       "      <td>3</td>\n",
       "      <td>999</td>\n",
       "      <td>0</td>\n",
       "      <td>1.4</td>\n",
       "      <td>94.465</td>\n",
       "      <td>-41.8</td>\n",
       "      <td>4.959</td>\n",
       "      <td>5228.1</td>\n",
       "      <td>...</td>\n",
       "      <td>0.0</td>\n",
       "      <td>0.0</td>\n",
       "      <td>1.0</td>\n",
       "      <td>0.0</td>\n",
       "      <td>0.0</td>\n",
       "      <td>0.0</td>\n",
       "      <td>0.0</td>\n",
       "      <td>0.0</td>\n",
       "      <td>1.0</td>\n",
       "      <td>0.0</td>\n",
       "    </tr>\n",
       "    <tr>\n",
       "      <th>4</th>\n",
       "      <td>47</td>\n",
       "      <td>58</td>\n",
       "      <td>1</td>\n",
       "      <td>999</td>\n",
       "      <td>0</td>\n",
       "      <td>-0.1</td>\n",
       "      <td>93.200</td>\n",
       "      <td>-42.0</td>\n",
       "      <td>4.191</td>\n",
       "      <td>5195.8</td>\n",
       "      <td>...</td>\n",
       "      <td>0.0</td>\n",
       "      <td>0.0</td>\n",
       "      <td>0.0</td>\n",
       "      <td>1.0</td>\n",
       "      <td>0.0</td>\n",
       "      <td>0.0</td>\n",
       "      <td>0.0</td>\n",
       "      <td>0.0</td>\n",
       "      <td>1.0</td>\n",
       "      <td>0.0</td>\n",
       "    </tr>\n",
       "  </tbody>\n",
       "</table>\n",
       "<p>5 rows × 63 columns</p>\n",
       "</div>"
      ],
      "text/plain": [
       "   age  duration  campaign  pdays  previous  emp.var.rate  cons.price.idx  \\\n",
       "0   30       487         2    999         0          -1.8          92.893   \n",
       "1   39       346         4    999         0           1.1          93.994   \n",
       "2   25       227         1    999         0           1.4          94.465   \n",
       "3   38        17         3    999         0           1.4          94.465   \n",
       "4   47        58         1    999         0          -0.1          93.200   \n",
       "\n",
       "   cons.conf.idx  euribor3m  nr.employed  ...  column43  column44  column45  \\\n",
       "0          -46.2      1.313       5099.1  ...       0.0       0.0       1.0   \n",
       "1          -36.4      4.855       5191.0  ...       0.0       0.0       1.0   \n",
       "2          -41.8      4.962       5228.1  ...       0.0       0.0       0.0   \n",
       "3          -41.8      4.959       5228.1  ...       0.0       0.0       1.0   \n",
       "4          -42.0      4.191       5195.8  ...       0.0       0.0       0.0   \n",
       "\n",
       "   column46  column47  column48  column49  column50  column51  column52  \n",
       "0       0.0       0.0       0.0       0.0       0.0       1.0       0.0  \n",
       "1       0.0       0.0       0.0       0.0       0.0       1.0       0.0  \n",
       "2       0.0       0.0       0.0       1.0       0.0       1.0       0.0  \n",
       "3       0.0       0.0       0.0       0.0       0.0       1.0       0.0  \n",
       "4       1.0       0.0       0.0       0.0       0.0       1.0       0.0  \n",
       "\n",
       "[5 rows x 63 columns]"
      ]
     },
     "execution_count": 12,
     "metadata": {},
     "output_type": "execute_result"
    }
   ],
   "source": [
    "test3.head()"
   ]
  },
  {
   "cell_type": "code",
   "execution_count": 13,
   "metadata": {},
   "outputs": [
    {
     "name": "stdout",
     "output_type": "stream",
     "text": [
      "Shape of X train: (41176, 62)\n",
      "Shape of Y train: (41176,)\n",
      "Shape of X test: (4119, 62)\n",
      "Shape of Y test: (4119,)\n"
     ]
    }
   ],
   "source": [
    "train_x = train3.iloc[:, :-1]\n",
    "print(\"Shape of X train:\", train_x.shape)\n",
    "train_y = train['y']\n",
    "print(\"Shape of Y train:\", train_y.shape)\n",
    "test_x = test3.iloc[:, :-1]\n",
    "print(\"Shape of X test:\", test_x.shape)\n",
    "test_y = test['y']\n",
    "print(\"Shape of Y test:\", test_y.shape)"
   ]
  },
  {
   "cell_type": "markdown",
   "metadata": {},
   "source": [
    "## Logistička regresija"
   ]
  },
  {
   "cell_type": "code",
   "execution_count": 14,
   "metadata": {},
   "outputs": [
    {
     "name": "stdout",
     "output_type": "stream",
     "text": [
      "Accuracy:  0.9123573682932751\n",
      "AUC score with duration column:  0.9327001429030847\n"
     ]
    }
   ],
   "source": [
    "from sklearn import metrics\n",
    "from sklearn.metrics import roc_auc_score, roc_curve\n",
    "from sklearn.linear_model import LogisticRegression\n",
    "from sklearn.metrics import confusion_matrix, classification_report\n",
    "\n",
    "model = LogisticRegression(max_iter=1000)\n",
    "model.fit(train_x,train_y)\n",
    "pred_y = model.predict_proba(test_x)\n",
    "\n",
    "accuracy_test = model.score(test_x,test_y) \n",
    "\n",
    "print(\"Accuracy: \", accuracy_test)\n",
    "print(\"AUC score with duration column: \", roc_auc_score(test_y, pred_y[:,1]))"
   ]
  },
  {
   "cell_type": "code",
   "execution_count": 15,
   "metadata": {},
   "outputs": [],
   "source": [
    "def plot_roc_curve(fpr, tpr):  \n",
    "    plt.plot(fpr, tpr, color='orange', label='ROC')\n",
    "    plt.plot([0, 1], [0, 1], color='darkblue', linestyle='--')\n",
    "    plt.xlabel('False Positive Rate')\n",
    "    plt.ylabel('True Positive Rate')\n",
    "    plt.title('Receiver Operating Characteristic (ROC) Curve')\n",
    "    plt.legend()\n",
    "    plt.show()\n",
    "    \n",
    "def display_summary(true,pred):\n",
    "    tn, fp, fn, tp = confusion_matrix(true,pred).ravel()\n",
    "    print('confusion matrix')\n",
    "    print(np.array([[tp,fp],[fn,tn]]))\n",
    "    print('sensitivity is %f',1.*tp/(tp+fn))\n",
    "    print('specificity is %f',1.*tn/(tn+fp))\n",
    "    print('accuracy is %f',1.*(tp+tn)/(tp+tn+fp+fn))\n",
    "    print('balanced accuracy is %',1./2*(1.*tp/(tp+fn)+1.*tn/(tn+fp)))"
   ]
  },
  {
   "cell_type": "code",
   "execution_count": 16,
   "metadata": {},
   "outputs": [
    {
     "data": {
      "image/png": "[encoded data removed]",
      "text/plain": [
       "<Figure size 432x288 with 1 Axes>"
      ]
     },
     "metadata": {
      "needs_background": "light"
     },
     "output_type": "display_data"
    },
    {
     "name": "stdout",
     "output_type": "stream",
     "text": [
      "[[3571   97]\n",
      " [ 264  187]]\n",
      "              precision    recall  f1-score   support\n",
      "\n",
      "           0     0.9312    0.9736    0.9519      3668\n",
      "           1     0.6585    0.4146    0.5088       451\n",
      "\n",
      "    accuracy                         0.9124      4119\n",
      "   macro avg     0.7948    0.6941    0.7304      4119\n",
      "weighted avg     0.9013    0.9124    0.9034      4119\n",
      "\n"
     ]
    }
   ],
   "source": [
    "pred = model.predict(test_x)\n",
    "\n",
    "y_pred_logistic = pred\n",
    "\n",
    "fpr, tpr, thresholds = roc_curve(test_y, pred_y[:,1])\n",
    "plot_roc_curve(fpr, tpr)\n",
    "print(confusion_matrix(test_y,pred))\n",
    "print(classification_report(test_y,pred,digits=4))"
   ]
  },
  {
   "cell_type": "code",
   "execution_count": 17,
   "metadata": {},
   "outputs": [],
   "source": [
    "precision, recall, thresholds = precision_recall_curve(test_y, pred_y[:,1])"
   ]
  },
  {
   "cell_type": "code",
   "execution_count": 18,
   "metadata": {},
   "outputs": [
    {
     "data": {
      "image/png": "[encoded data removed]",
      "text/plain": [
       "<Figure size 432x288 with 1 Axes>"
      ]
     },
     "metadata": {
      "needs_background": "light"
     },
     "output_type": "display_data"
    }
   ],
   "source": [
    "no_skill = len(test_y[test_y==1]) / len(test_y)\n",
    "plt.plot([0, 1], [no_skill, no_skill], linestyle='--', label='No Skill')\n",
    "plt.plot(recall, precision, marker='.', label='Logistic')\n",
    "# axis labels\n",
    "plt.xlabel('Recall')\n",
    "plt.ylabel('Precision')\n",
    "# show the legend\n",
    "plt.legend()\n",
    "# show the plot\n",
    "plt.show()"
   ]
  },
  {
   "cell_type": "code",
   "execution_count": 19,
   "metadata": {},
   "outputs": [
    {
     "data": {
      "text/plain": [
       "0.6024145058198975"
      ]
     },
     "execution_count": 19,
     "metadata": {},
     "output_type": "execute_result"
    }
   ],
   "source": [
    "auprc=auc(recall, precision)\n",
    "auprc"
   ]
  },
  {
   "cell_type": "markdown",
   "metadata": {},
   "source": [
    "## Naivni Bayes"
   ]
  },
  {
   "cell_type": "code",
   "execution_count": 20,
   "metadata": {},
   "outputs": [
    {
     "name": "stdout",
     "output_type": "stream",
     "text": [
      "Accuracy:  0.8548191308570041\n",
      "AUC score with duration column:  0.8241219076957301\n"
     ]
    }
   ],
   "source": [
    "from sklearn.naive_bayes import GaussianNB\n",
    "\n",
    "modelNB = GaussianNB()\n",
    "modelNB.fit(train_x,train_y)\n",
    "pred_y_NB = modelNB.predict_proba(test_x)\n",
    "\n",
    "accuracy_test = modelNB.score(test_x,test_y)\n",
    "\n",
    "print(\"Accuracy: \", accuracy_test)\n",
    "print(\"AUC score with duration column: \", roc_auc_score(test_y, pred_y_NB[:,1]))"
   ]
  },
  {
   "cell_type": "code",
   "execution_count": 21,
   "metadata": {},
   "outputs": [
    {
     "data": {
      "image/png": "[encoded data removed]",
      "text/plain": [
       "<Figure size 432x288 with 1 Axes>"
      ]
     },
     "metadata": {
      "needs_background": "light"
     },
     "output_type": "display_data"
    },
    {
     "name": "stdout",
     "output_type": "stream",
     "text": [
      "[[3269  399]\n",
      " [ 199  252]]\n",
      "              precision    recall  f1-score   support\n",
      "\n",
      "           0     0.9426    0.8912    0.9162      3668\n",
      "           1     0.3871    0.5588    0.4574       451\n",
      "\n",
      "    accuracy                         0.8548      4119\n",
      "   macro avg     0.6649    0.7250    0.6868      4119\n",
      "weighted avg     0.8818    0.8548    0.8660      4119\n",
      "\n"
     ]
    }
   ],
   "source": [
    "pred_NB = modelNB.predict(test_x)\n",
    "\n",
    "fpr, tpr, thresholds = roc_curve(test_y, pred_y_NB[:,1])\n",
    "plot_roc_curve(fpr, tpr)\n",
    "print(confusion_matrix(test_y,pred_NB))\n",
    "print(classification_report(test_y,pred_NB,digits=4))"
   ]
  },
  {
   "cell_type": "code",
   "execution_count": 22,
   "metadata": {},
   "outputs": [],
   "source": [
    "precision, recall, thresholds = precision_recall_curve(test_y, pred_y_NB[:,1])"
   ]
  },
  {
   "cell_type": "code",
   "execution_count": 23,
   "metadata": {},
   "outputs": [
    {
     "data": {
      "image/png": "[encoded data removed]",
      "text/plain": [
       "<Figure size 432x288 with 1 Axes>"
      ]
     },
     "metadata": {
      "needs_background": "light"
     },
     "output_type": "display_data"
    },
    {
     "name": "stdout",
     "output_type": "stream",
     "text": [
      "0.4638142635179989\n"
     ]
    }
   ],
   "source": [
    "no_skill = len(test_y[test_y==1]) / len(test_y)\n",
    "plt.plot([0, 1], [no_skill, no_skill], linestyle='--', label='No Skill')\n",
    "plt.plot(recall, precision, marker='.', label='NB')\n",
    "# axis labels\n",
    "plt.xlabel('Recall')\n",
    "plt.ylabel('Precision')\n",
    "# show the legend\n",
    "plt.legend()\n",
    "# show the plot\n",
    "plt.show()\n",
    "\n",
    "auprc=auc(recall, precision)\n",
    "\n",
    "print(auprc)"
   ]
  },
  {
   "cell_type": "markdown",
   "metadata": {},
   "source": [
    "## SVM"
   ]
  },
  {
   "cell_type": "code",
   "execution_count": 23,
   "metadata": {},
   "outputs": [],
   "source": [
    "from sklearn import svm\n",
    "\n",
    "features_names = train_x.columns\n",
    "svm = svm.SVC(kernel='linear',probability=True)\n",
    "svm.fit(train_x, train_y)\n",
    "pred_y = svm.predict_proba(test_x)"
   ]
  },
  {
   "cell_type": "code",
   "execution_count": 24,
   "metadata": {},
   "outputs": [
    {
     "name": "stdout",
     "output_type": "stream",
     "text": [
      "\n",
      "Accuracy Of SVM For The Given Dataset :  0.8812818645302258\n"
     ]
    },
    {
     "data": {
      "image/png": "[encoded data removed]",
      "text/plain": [
       "<Figure size 360x216 with 1 Axes>"
      ]
     },
     "metadata": {
      "needs_background": "light"
     },
     "output_type": "display_data"
    },
    {
     "name": "stdout",
     "output_type": "stream",
     "text": [
      "[[3434  234]\n",
      " [ 255  196]]\n",
      "              precision    recall  f1-score   support\n",
      "\n",
      "           0     0.9309    0.9362    0.9335      3668\n",
      "           1     0.4558    0.4346    0.4449       451\n",
      "\n",
      "    accuracy                         0.8813      4119\n",
      "   macro avg     0.6933    0.6854    0.6892      4119\n",
      "weighted avg     0.8789    0.8813    0.8800      4119\n",
      "\n"
     ]
    }
   ],
   "source": [
    "y_pred_lin = svm.predict(test_x)\n",
    "\n",
    "accuracy_test = svm.score(test_x,test_y)\n",
    "print(\"\\nAccuracy Of SVM For The Given Dataset : \", accuracy_test)\n",
    "\n",
    "fpr, tpr, thresholds = roc_curve(test_y, pred_y[:,1])\n",
    "plt.rcParams[\"figure.figsize\"] = (5,3)\n",
    "plot_roc_curve(fpr, tpr)\n",
    "print(confusion_matrix(test_y,y_pred_lin))\n",
    "print(classification_report(test_y,y_pred_lin,digits=4))"
   ]
  },
  {
   "cell_type": "code",
   "execution_count": 25,
   "metadata": {},
   "outputs": [
    {
     "data": {
      "image/png": "[encoded data removed]",
      "text/plain": [
       "<Figure size 1080x720 with 1 Axes>"
      ]
     },
     "metadata": {
      "needs_background": "light"
     },
     "output_type": "display_data"
    }
   ],
   "source": [
    "def f_importances_2(coef, names):\n",
    "    imp = coef[0]\n",
    "    imp,names = zip(*sorted(zip(imp,names)))\n",
    "    plt.rcParams[\"figure.figsize\"] = (15,10)\n",
    "    plt.barh(range(len(names)), imp, align='center')\n",
    "    plt.yticks(range(len(names)), names)\n",
    "    plt.show()\n",
    "\n",
    "f_importances_2(svm.coef_, features_names)"
   ]
  },
  {
   "cell_type": "code",
   "execution_count": 26,
   "metadata": {},
   "outputs": [
    {
     "name": "stdout",
     "output_type": "stream",
     "text": [
      "precision on the evaluation set:  0.4558139534883721\n",
      "recall on the evaluation set:  0.43458980044345896\n",
      "accuracy on the evaluation set:  0.8812818645302258\n"
     ]
    }
   ],
   "source": [
    "from sklearn.metrics import precision_score, accuracy_score, recall_score, f1_score\n",
    "pre1 = precision_score(test_y, y_pred_lin)\n",
    "rec1 = recall_score(test_y, y_pred_lin)\n",
    "acc1 = accuracy_score(test_y, y_pred_lin)\n",
    "f1_1 = f1_score(test_y, y_pred_lin)\n",
    "print('precision on the evaluation set: ', pre1)\n",
    "print('recall on the evaluation set: ', rec1)\n",
    "print('accuracy on the evaluation set: ', acc1)"
   ]
  },
  {
   "cell_type": "code",
   "execution_count": 27,
   "metadata": {},
   "outputs": [],
   "source": [
    "precision, recall, thresholds = precision_recall_curve(test_y, pred_y[:,1])"
   ]
  },
  {
   "cell_type": "code",
   "execution_count": 28,
   "metadata": {},
   "outputs": [
    {
     "data": {
      "image/png": "[encoded data removed]",
      "text/plain": [
       "<Figure size 360x216 with 1 Axes>"
      ]
     },
     "metadata": {
      "needs_background": "light"
     },
     "output_type": "display_data"
    }
   ],
   "source": [
    "no_skill = len(test_y[test_y==1]) / len(test_y)\n",
    "plt.rcParams[\"figure.figsize\"] = (5,3)\n",
    "plt.plot([0, 1], [no_skill, no_skill], linestyle='--', label='No Skill')\n",
    "plt.plot(recall, precision, marker='.', label='SVM Linear')\n",
    "# axis labels\n",
    "plt.xlabel('Recall')\n",
    "plt.ylabel('Precision')\n",
    "# show the legend\n",
    "plt.legend()\n",
    "# show the plot\n",
    "plt.show()"
   ]
  },
  {
   "cell_type": "code",
   "execution_count": 29,
   "metadata": {},
   "outputs": [
    {
     "data": {
      "text/plain": [
       "0.44884751764839503"
      ]
     },
     "execution_count": 29,
     "metadata": {},
     "output_type": "execute_result"
    }
   ],
   "source": [
    "auprc1=auc(recall, precision)\n",
    "auprc1"
   ]
  },
  {
   "cell_type": "code",
   "execution_count": 30,
   "metadata": {},
   "outputs": [],
   "source": [
    "from sklearn.svm import SVC\n",
    "\n",
    "modelSVM = SVC(probability=True)\n",
    "modelSVM.fit(train_x, train_y)\n",
    "SVM_pred_y = modelSVM.predict_proba(test_x)"
   ]
  },
  {
   "cell_type": "code",
   "execution_count": 31,
   "metadata": {},
   "outputs": [
    {
     "name": "stdout",
     "output_type": "stream",
     "text": [
      "\n",
      "Accuracy Of SVM For The Given Dataset :  0.9009468317552805\n"
     ]
    },
    {
     "data": {
      "image/png": "[encoded data removed]",
      "text/plain": [
       "<Figure size 360x216 with 1 Axes>"
      ]
     },
     "metadata": {
      "needs_background": "light"
     },
     "output_type": "display_data"
    },
    {
     "name": "stdout",
     "output_type": "stream",
     "text": [
      "[[3607   61]\n",
      " [ 347  104]]\n",
      "              precision    recall  f1-score   support\n",
      "\n",
      "           0     0.9122    0.9834    0.9465      3668\n",
      "           1     0.6303    0.2306    0.3377       451\n",
      "\n",
      "    accuracy                         0.9009      4119\n",
      "   macro avg     0.7713    0.6070    0.6421      4119\n",
      "weighted avg     0.8814    0.9009    0.8798      4119\n",
      "\n"
     ]
    }
   ],
   "source": [
    "y_pred_SVM = modelSVM.predict(test_x)\n",
    "\n",
    "accuracy_test = modelSVM.score(test_x,test_y)\n",
    "print(\"\\nAccuracy Of SVM For The Given Dataset : \", accuracy_test)\n",
    "\n",
    "fpr, tpr, thresholds = roc_curve(test_y, SVM_pred_y[:,1])\n",
    "plt.rcParams[\"figure.figsize\"] = (5,3)\n",
    "plot_roc_curve(fpr, tpr)\n",
    "print(confusion_matrix(test_y,y_pred_SVM))\n",
    "print(classification_report(test_y,y_pred_SVM,digits=4))"
   ]
  },
  {
   "cell_type": "code",
   "execution_count": 32,
   "metadata": {},
   "outputs": [
    {
     "name": "stdout",
     "output_type": "stream",
     "text": [
      "precision on the evaluation set:  0.6303030303030303\n",
      "recall on the evaluation set:  0.23059866962305986\n",
      "accuracy on the evaluation set:  0.9009468317552805\n"
     ]
    }
   ],
   "source": [
    "pre2 = precision_score(test_y, y_pred_SVM)\n",
    "rec2 = recall_score(test_y, y_pred_SVM)\n",
    "acc2 = accuracy_score(test_y, y_pred_SVM)\n",
    "f1_2 = f1_score(test_y, y_pred_SVM)\n",
    "print('precision on the evaluation set: ', pre2)\n",
    "print('recall on the evaluation set: ', rec2)\n",
    "print('accuracy on the evaluation set: ', acc2)"
   ]
  },
  {
   "cell_type": "code",
   "execution_count": 33,
   "metadata": {},
   "outputs": [],
   "source": [
    "precision, recall, thresholds = precision_recall_curve(test_y, SVM_pred_y[:,1])"
   ]
  },
  {
   "cell_type": "code",
   "execution_count": 34,
   "metadata": {},
   "outputs": [
    {
     "data": {
      "image/png": "[encoded data removed]",
      "text/plain": [
       "<Figure size 360x216 with 1 Axes>"
      ]
     },
     "metadata": {
      "needs_background": "light"
     },
     "output_type": "display_data"
    }
   ],
   "source": [
    "no_skill = len(test_y[test_y==1]) / len(test_y)\n",
    "plt.plot([0, 1], [no_skill, no_skill], linestyle='--', label='No Skill')\n",
    "plt.plot(recall, precision, marker='.', label='SVM RBF')\n",
    "# axis labels\n",
    "plt.xlabel('Recall')\n",
    "plt.ylabel('Precision')\n",
    "# show the legend\n",
    "plt.legend()\n",
    "# show the plot\n",
    "plt.show()"
   ]
  },
  {
   "cell_type": "code",
   "execution_count": 35,
   "metadata": {},
   "outputs": [
    {
     "data": {
      "text/plain": [
       "0.5821636835088713"
      ]
     },
     "execution_count": 35,
     "metadata": {},
     "output_type": "execute_result"
    }
   ],
   "source": [
    "auprc2=auc(recall, precision)\n",
    "auprc2"
   ]
  },
  {
   "cell_type": "code",
   "execution_count": 36,
   "metadata": {},
   "outputs": [
    {
     "name": "stdout",
     "output_type": "stream",
     "text": [
      "(41176, 31)\n",
      "(4119, 31)\n"
     ]
    }
   ],
   "source": [
    "from sklearn.decomposition import PCA\n",
    "pca = PCA(n_components=31)\n",
    "x_pca = pca.fit_transform(train_x)\n",
    "print(x_pca.shape)\n",
    "\n",
    "x_pca_test = pca.fit_transform(test_x)\n",
    "print(x_pca_test.shape)"
   ]
  },
  {
   "cell_type": "code",
   "execution_count": 37,
   "metadata": {},
   "outputs": [],
   "source": [
    "modelSVC_PCA = SVC(probability=True)\n",
    "modelSVC_PCA.fit(x_pca,train_y)\n",
    "PCA_pred_y = modelSVC_PCA.predict_proba(x_pca_test)"
   ]
  },
  {
   "cell_type": "code",
   "execution_count": 38,
   "metadata": {},
   "outputs": [
    {
     "name": "stdout",
     "output_type": "stream",
     "text": [
      "\n",
      "Accuracy Of SVM_PCA For The Given Dataset :  0.9142995872784656\n"
     ]
    },
    {
     "data": {
      "image/png": "[encoded data removed]",
      "text/plain": [
       "<Figure size 360x216 with 1 Axes>"
      ]
     },
     "metadata": {
      "needs_background": "light"
     },
     "output_type": "display_data"
    },
    {
     "name": "stdout",
     "output_type": "stream",
     "text": [
      "[[3562  106]\n",
      " [ 247  204]]\n",
      "              precision    recall  f1-score   support\n",
      "\n",
      "           0     0.9352    0.9711    0.9528      3668\n",
      "           1     0.6581    0.4523    0.5361       451\n",
      "\n",
      "    accuracy                         0.9143      4119\n",
      "   macro avg     0.7966    0.7117    0.7445      4119\n",
      "weighted avg     0.9048    0.9143    0.9072      4119\n",
      "\n"
     ]
    }
   ],
   "source": [
    "y_pred_PCA = modelSVC_PCA.predict(x_pca_test)\n",
    "\n",
    "accuracy_test = modelSVC_PCA.score(x_pca_test,test_y)\n",
    "print(\"\\nAccuracy Of SVM_PCA For The Given Dataset : \", accuracy_test)\n",
    "\n",
    "fpr, tpr, thresholds = roc_curve(test_y, PCA_pred_y[:,1])\n",
    "plot_roc_curve(fpr, tpr)\n",
    "print(confusion_matrix(test_y,y_pred_PCA))\n",
    "print(classification_report(test_y,y_pred_PCA,digits=4))"
   ]
  },
  {
   "cell_type": "code",
   "execution_count": 39,
   "metadata": {},
   "outputs": [
    {
     "name": "stdout",
     "output_type": "stream",
     "text": [
      "precision on the evaluation set:  0.6580645161290323\n",
      "recall on the evaluation set:  0.4523281596452328\n",
      "accuracy on the evaluation set:  0.9142995872784656\n"
     ]
    }
   ],
   "source": [
    "pre3 = precision_score(test_y, y_pred_PCA)\n",
    "rec3 = recall_score(test_y, y_pred_PCA)\n",
    "acc3 = accuracy_score(test_y, y_pred_PCA)\n",
    "f1_3 = f1_score(test_y, y_pred_PCA)\n",
    "print('precision on the evaluation set: ', pre3)\n",
    "print('recall on the evaluation set: ', rec3)\n",
    "print('accuracy on the evaluation set: ', acc3)"
   ]
  },
  {
   "cell_type": "code",
   "execution_count": 40,
   "metadata": {},
   "outputs": [],
   "source": [
    "precision, recall, thresholds = precision_recall_curve(test_y, PCA_pred_y[:,1])"
   ]
  },
  {
   "cell_type": "code",
   "execution_count": 41,
   "metadata": {},
   "outputs": [
    {
     "data": {
      "image/png": "[encoded data removed]",
      "text/plain": [
       "<Figure size 360x216 with 1 Axes>"
      ]
     },
     "metadata": {
      "needs_background": "light"
     },
     "output_type": "display_data"
    }
   ],
   "source": [
    "no_skill = len(test_y[test_y==1]) / len(test_y)\n",
    "plt.plot([0, 1], [no_skill, no_skill], linestyle='--', label='No Skill')\n",
    "plt.plot(recall, precision, marker='.', label='SVM_PCA')\n",
    "# axis labels\n",
    "plt.xlabel('Recall')\n",
    "plt.ylabel('Precision')\n",
    "# show the legend\n",
    "plt.legend()\n",
    "# show the plot\n",
    "plt.show()"
   ]
  },
  {
   "cell_type": "code",
   "execution_count": 42,
   "metadata": {},
   "outputs": [
    {
     "data": {
      "text/plain": [
       "0.5860977319526934"
      ]
     },
     "execution_count": 42,
     "metadata": {},
     "output_type": "execute_result"
    }
   ],
   "source": [
    "auprc3=auc(recall, precision)\n",
    "auprc3"
   ]
  },
  {
   "cell_type": "code",
   "execution_count": 43,
   "metadata": {},
   "outputs": [
    {
     "data": {
      "text/html": [
       "<div>\n",
       "<style scoped>\n",
       "    .dataframe tbody tr th:only-of-type {\n",
       "        vertical-align: middle;\n",
       "    }\n",
       "\n",
       "    .dataframe tbody tr th {\n",
       "        vertical-align: top;\n",
       "    }\n",
       "\n",
       "    .dataframe thead th {\n",
       "        text-align: right;\n",
       "    }\n",
       "</style>\n",
       "<table border=\"1\" class=\"dataframe\">\n",
       "  <thead>\n",
       "    <tr style=\"text-align: right;\">\n",
       "      <th></th>\n",
       "      <th>Metric</th>\n",
       "      <th>Score Linear Without PCA</th>\n",
       "      <th>Score RBF Without PCA</th>\n",
       "      <th>Score RBF With PCA (31)</th>\n",
       "    </tr>\n",
       "  </thead>\n",
       "  <tbody>\n",
       "    <tr>\n",
       "      <th>0</th>\n",
       "      <td>Accuracy</td>\n",
       "      <td>0.881282</td>\n",
       "      <td>0.900947</td>\n",
       "      <td>0.914300</td>\n",
       "    </tr>\n",
       "    <tr>\n",
       "      <th>1</th>\n",
       "      <td>Precision</td>\n",
       "      <td>0.455814</td>\n",
       "      <td>0.630303</td>\n",
       "      <td>0.658065</td>\n",
       "    </tr>\n",
       "    <tr>\n",
       "      <th>2</th>\n",
       "      <td>Recall</td>\n",
       "      <td>0.434590</td>\n",
       "      <td>0.230599</td>\n",
       "      <td>0.452328</td>\n",
       "    </tr>\n",
       "    <tr>\n",
       "      <th>3</th>\n",
       "      <td>F1 Score</td>\n",
       "      <td>0.444949</td>\n",
       "      <td>0.337662</td>\n",
       "      <td>0.536137</td>\n",
       "    </tr>\n",
       "    <tr>\n",
       "      <th>4</th>\n",
       "      <td>AUPRC</td>\n",
       "      <td>0.448848</td>\n",
       "      <td>0.582164</td>\n",
       "      <td>0.586098</td>\n",
       "    </tr>\n",
       "  </tbody>\n",
       "</table>\n",
       "</div>"
      ],
      "text/plain": [
       "      Metric  Score Linear Without PCA  Score RBF Without PCA  \\\n",
       "0   Accuracy                  0.881282               0.900947   \n",
       "1  Precision                  0.455814               0.630303   \n",
       "2     Recall                  0.434590               0.230599   \n",
       "3   F1 Score                  0.444949               0.337662   \n",
       "4      AUPRC                  0.448848               0.582164   \n",
       "\n",
       "   Score RBF With PCA (31)  \n",
       "0                 0.914300  \n",
       "1                 0.658065  \n",
       "2                 0.452328  \n",
       "3                 0.536137  \n",
       "4                 0.586098  "
      ]
     },
     "execution_count": 43,
     "metadata": {},
     "output_type": "execute_result"
    }
   ],
   "source": [
    "table = pd.DataFrame({\n",
    "    'Metric': ['Accuracy', 'Precision', 'Recall', 'F1 Score', 'AUPRC'],\n",
    "    'Score Linear Without PCA': [acc1, pre1, rec1, f1_1, auprc1],\n",
    "    'Score RBF Without PCA': [acc2, pre2, rec2, f1_2, auprc2],\n",
    "    'Score RBF With PCA (31)': [acc3, pre3, rec3, f1_3, auprc3]\n",
    "    })\n",
    "table"
   ]
  },
  {
   "cell_type": "markdown",
   "metadata": {},
   "source": [
    "## Tree-Based algoritmi\n",
    "\n",
    "Stabla odluke često djeluju dobro na neuravnoteženim skupovima podataka jer im hijerarhijska struktura omogućuje učenje iz obje klase.\n",
    "\n",
    "U modernom primijenjenom strojnom učenju ansambli stabala (Random Forests, Gradient Boosted Trees, itd.) gotovo uvijek nadmašuju pojedinačna stabla odlučivanja."
   ]
  },
  {
   "cell_type": "code",
   "execution_count": 24,
   "metadata": {},
   "outputs": [],
   "source": [
    "X_train, X_test, y_train, y_test = train_test_split(train_x, train_y, test_size=0.2, random_state=0)"
   ]
  },
  {
   "cell_type": "markdown",
   "metadata": {},
   "source": [
    "Najjednostavniji način rješavanja problema neravnotežih klasa je korištenje klasifikatora koji je robusan prema neravnoteži klase. Najočitije je stablo odluka. Ako se rijetka klasa nalazi u određenom području obilježja ili barem to obično čini, većina ili sve rijetke klase leže u jednom čvoru stabla odlučivanja."
   ]
  },
  {
   "cell_type": "code",
   "execution_count": 25,
   "metadata": {},
   "outputs": [
    {
     "name": "stdout",
     "output_type": "stream",
     "text": [
      "Decision Tree\n",
      "confusion matrix\n",
      "[[ 506  454]\n",
      " [ 461 6815]]\n",
      "sensitivity is %f 0.5232678386763185\n",
      "specificity is %f 0.9375429907827761\n",
      "accuracy is %f 0.8889023797960175\n",
      "balanced accuracy is % 0.7304054147295473\n"
     ]
    }
   ],
   "source": [
    "modelDTC = tree.DecisionTreeClassifier()\n",
    "modelDTC = modelDTC.fit(X_train, y_train)\n",
    "y_pred_tree = modelDTC.predict(X_test)\n",
    "print('Decision Tree')\n",
    "display_summary(y_test,y_pred_tree)"
   ]
  },
  {
   "cell_type": "code",
   "execution_count": 26,
   "metadata": {},
   "outputs": [
    {
     "data": {
      "image/png": "[encoded data removed]",
      "text/plain": [
       "<Figure size 432x288 with 1 Axes>"
      ]
     },
     "metadata": {
      "needs_background": "light"
     },
     "output_type": "display_data"
    },
    {
     "name": "stdout",
     "output_type": "stream",
     "text": [
      "[[6815  454]\n",
      " [ 461  506]]\n",
      "              precision    recall  f1-score   support\n",
      "\n",
      "           0     0.9366    0.9375    0.9371      7269\n",
      "           1     0.5271    0.5233    0.5252       967\n",
      "\n",
      "    accuracy                         0.8889      8236\n",
      "   macro avg     0.7319    0.7304    0.7311      8236\n",
      "weighted avg     0.8886    0.8889    0.8887      8236\n",
      "\n"
     ]
    }
   ],
   "source": [
    "pred_tree_y = modelDTC.predict_proba(X_test)\n",
    "fpr, tpr, thresholds = roc_curve(y_test, pred_tree_y[:,1])\n",
    "plot_roc_curve(fpr, tpr)\n",
    "print(confusion_matrix(y_test,y_pred_tree))\n",
    "print(classification_report(y_test,y_pred_tree,digits=4))"
   ]
  },
  {
   "cell_type": "code",
   "execution_count": 27,
   "metadata": {},
   "outputs": [
    {
     "data": {
      "image/png": "[encoded data removed]",
      "text/plain": [
       "<Figure size 432x288 with 1 Axes>"
      ]
     },
     "metadata": {
      "needs_background": "light"
     },
     "output_type": "display_data"
    },
    {
     "name": "stdout",
     "output_type": "stream",
     "text": [
      "DT\n",
      "confusion matrix\n",
      "[[ 506  454]\n",
      " [ 461 6815]]\n",
      "sensitivity is %f 0.5232678386763185\n",
      "specificity is %f 0.9375429907827761\n",
      "accuracy is %f 0.8889023797960175\n",
      "balanced accuracy is % 0.7304054147295473\n",
      "AUPRC: %f 0.5531624728430969\n"
     ]
    }
   ],
   "source": [
    "precision, recall, thresholds = precision_recall_curve(y_test, pred_tree_y[:,1])\n",
    "\n",
    "\n",
    "no_skill = len(y_test[y_test==1]) / len(y_test)\n",
    "plt.plot([0, 1], [no_skill, no_skill], linestyle='--', label='No Skill')\n",
    "plt.plot(recall, precision, marker='.', label='DT')\n",
    "# axis labels\n",
    "plt.xlabel('Recall')\n",
    "plt.ylabel('Precision')\n",
    "# show the legend\n",
    "plt.legend()\n",
    "# show the plot\n",
    "plt.show()\n",
    "print('DT')\n",
    "display_summary(y_test,y_pred_tree)\n",
    "\n",
    "auprc=auc(recall, precision)\n",
    "\n",
    "print('AUPRC: %f',auprc)"
   ]
  },
  {
   "cell_type": "markdown",
   "metadata": {},
   "source": [
    "## Slučajne šume\n",
    "\n",
    "Slučajna šuma uključuje odabir bootstrap uzoraka iz skupa podataka za treniranje i postavljanje stabla odluke za svaki takav uzorak. Ne koriste se sve značajke (varijable ili stupci); umjesto toga, za svaki bootstrap uzorak odabran je mali nasumično odabrani podskup mogućnosti (stupaca).Kao posljedica, uklanja se korelacija stabala odluke (što ih čini neovisnijima), a zauzvrat, poboljšava se predviđanje ansambla."
   ]
  },
  {
   "cell_type": "code",
   "execution_count": 28,
   "metadata": {},
   "outputs": [
    {
     "name": "stdout",
     "output_type": "stream",
     "text": [
      "[0 1]\n",
      "0.9068722680913065\n",
      "0.9163708616281149\n"
     ]
    },
    {
     "data": {
      "image/png": "[encoded data removed]",
      "text/plain": [
       "<Figure size 432x288 with 1 Axes>"
      ]
     },
     "metadata": {
      "needs_background": "light"
     },
     "output_type": "display_data"
    },
    {
     "name": "stdout",
     "output_type": "stream",
     "text": [
      "[[7084  185]\n",
      " [ 582  385]]\n",
      "              precision    recall  f1-score   support\n",
      "\n",
      "           0     0.9241    0.9745    0.9486      7269\n",
      "           1     0.6754    0.3981    0.5010       967\n",
      "\n",
      "    accuracy                         0.9069      8236\n",
      "   macro avg     0.7998    0.6863    0.7248      8236\n",
      "weighted avg     0.8949    0.9069    0.8961      8236\n",
      "\n"
     ]
    }
   ],
   "source": [
    "# Train model\n",
    "modelRFC = RandomForestClassifier(n_estimators=10)\n",
    "modelRFC.fit(X_train, y_train)\n",
    " \n",
    "# Predict on test set\n",
    "pred_y_RFC = modelRFC.predict(X_test)\n",
    " \n",
    "# Is our model still predicting just one class?\n",
    "print( np.unique( pred_y_RFC ) )\n",
    "# [0 1]\n",
    " \n",
    "# How's our accuracy?\n",
    "print( accuracy_score(y_test, pred_y_RFC) )\n",
    "\n",
    "# What about AUROC?\n",
    "prob_y_RFC = modelRFC.predict_proba(X_test)\n",
    "prob_y_RFC = [p[1] for p in prob_y_RFC]\n",
    "print( roc_auc_score(y_test, prob_y_RFC) )\n",
    "\n",
    "\n",
    "fpr, tpr, thresholds = roc_curve(y_test, prob_y_RFC)\n",
    "plot_roc_curve(fpr, tpr)\n",
    "print(confusion_matrix(y_test,pred_y_RFC))\n",
    "print(classification_report(y_test,pred_y_RFC,digits=4))"
   ]
  },
  {
   "cell_type": "code",
   "execution_count": 29,
   "metadata": {},
   "outputs": [
    {
     "data": {
      "image/png": "[encoded data removed]",
      "text/plain": [
       "<Figure size 432x288 with 1 Axes>"
      ]
     },
     "metadata": {
      "needs_background": "light"
     },
     "output_type": "display_data"
    },
    {
     "name": "stdout",
     "output_type": "stream",
     "text": [
      "Random Forest\n",
      "confusion matrix\n",
      "[[ 385  185]\n",
      " [ 582 7084]]\n",
      "sensitivity is %f 0.3981385729058945\n",
      "specificity is %f 0.9745494565965057\n",
      "accuracy is %f 0.9068722680913065\n",
      "balanced accuracy is % 0.6863440147512001\n",
      "AUPRC: %f 0.6151964721225514\n"
     ]
    }
   ],
   "source": [
    "precision, recall, thresholds = precision_recall_curve(y_test, prob_y_RFC)\n",
    "\n",
    "no_skill = len(y_test[y_test==1]) / len(y_test)\n",
    "plt.plot([0, 1], [no_skill, no_skill], linestyle='--', label='No Skill')\n",
    "plt.plot(recall, precision, marker='.', label='RFC')\n",
    "# axis labels\n",
    "plt.xlabel('Recall')\n",
    "plt.ylabel('Precision')\n",
    "# show the legend\n",
    "plt.legend()\n",
    "# show the plot\n",
    "plt.show()\n",
    "print('Random Forest')\n",
    "display_summary(y_test,pred_y_RFC)\n",
    "\n",
    "auprc=auc(recall, precision)\n",
    "\n",
    "print('AUPRC: %f',auprc)"
   ]
  },
  {
   "cell_type": "code",
   "execution_count": 30,
   "metadata": {},
   "outputs": [
    {
     "name": "stdout",
     "output_type": "stream",
     "text": [
      "Mean ROC AUC: 0.908\n"
     ]
    }
   ],
   "source": [
    "cv = RepeatedStratifiedKFold(n_splits=10, n_repeats=3, random_state=1)\n",
    "# evaluate model\n",
    "scores = cross_val_score(modelRFC, X_train, y_train, scoring='roc_auc', cv=cv, n_jobs=-1)\n",
    "# summarize performance\n",
    "print('Mean ROC AUC: %.3f' % mean(scores))"
   ]
  },
  {
   "cell_type": "markdown",
   "metadata": {},
   "source": [
    "### Ponderirane slučajne šume\n",
    "\n",
    "Jednostavna tehnika za izmjenu stabla odlučivanja za neuravnoteženu klasifikaciju je promjena težine koju svaka klasa ima prilikom izračunavanja rezultata \"nečistoća\" odabrane točke razdvajanja.\n",
    "\n",
    "Nečistoća mjeri koliko su skupine uzoraka pomiješane za određenu podjelu u skupu podataka za treniranje i obično se mjeri Ginijem ili entropijom. Budući da je RF klasifikator sklon pristrasnosti prema većinskoj klasi, dajemo strožu kaznu za pogrešno klasificiranje manjinske klase.\n",
    "\n",
    "Ova modifikacija slučajne šume naziva se ponderiranom slučajnom šumom."
   ]
  },
  {
   "cell_type": "code",
   "execution_count": 31,
   "metadata": {},
   "outputs": [
    {
     "name": "stdout",
     "output_type": "stream",
     "text": [
      "Mean ROC AUC: 0.910\n"
     ]
    },
    {
     "data": {
      "image/png": "[encoded data removed]",
      "text/plain": [
       "<Figure size 432x288 with 1 Axes>"
      ]
     },
     "metadata": {
      "needs_background": "light"
     },
     "output_type": "display_data"
    },
    {
     "name": "stdout",
     "output_type": "stream",
     "text": [
      "Random Forest\n",
      "confusion matrix\n",
      "[[ 341  150]\n",
      " [ 626 7119]]\n",
      "sensitivity is %f 0.35263702171664946\n",
      "specificity is %f 0.9793644242674371\n",
      "accuracy is %f 0.9057795046138902\n",
      "balanced accuracy is % 0.6660007229920433\n",
      "AUPRC: %f 0.6117403865174496\n"
     ]
    }
   ],
   "source": [
    "modelRFC_w = RandomForestClassifier(n_estimators=10, class_weight='balanced')\n",
    "cv = RepeatedStratifiedKFold(n_splits=10, n_repeats=3, random_state=1)\n",
    "scores = cross_val_score(modelRFC_w, X_train, y_train, scoring='roc_auc', cv=cv, n_jobs=-1)\n",
    "print('Mean ROC AUC: %.3f' % mean(scores))\n",
    "\n",
    "modelRFC_w.fit(X_train, y_train)\n",
    "pred_y_RFC_w = modelRFC_w.predict(X_test)\n",
    "pred_y_RFC_w2 = modelRFC_w.predict_proba(X_test)\n",
    "\n",
    "precision, recall, thresholds = precision_recall_curve(y_test, pred_y_RFC_w2[:,1])\n",
    "\n",
    "no_skill = len(y_test[y_test==1]) / len(y_test)\n",
    "plt.plot([0, 1], [no_skill, no_skill], linestyle='--', label='No Skill')\n",
    "plt.plot(recall, precision, marker='.', label='RFC_w')\n",
    "# axis labels\n",
    "plt.xlabel('Recall')\n",
    "plt.ylabel('Precision')\n",
    "# show the legend\n",
    "plt.legend()\n",
    "# show the plot\n",
    "plt.show()\n",
    "print('Random Forest')\n",
    "display_summary(y_test,pred_y_RFC_w)\n",
    "\n",
    "auprc=auc(recall, precision)\n",
    "\n",
    "print('AUPRC: %f',auprc)"
   ]
  },
  {
   "cell_type": "markdown",
   "metadata": {},
   "source": [
    "### Bootstrap ponderirane slučajne šume\n",
    "\n",
    "S obzirom da je svako stablo odluka građeno iz bootstrap uzorka (npr. slučajni odabir sa ponavljanjem), distribucija klasa u uzorku podataka bit će različita za svako stablo.\n",
    "\n",
    "Kao takva, moglo bi biti zanimljivo promijeniti ponderiranje klase na temelju distribucije klasa u svakom uzorku, umjesto čitavog skupa podataka za treniranje.\n",
    "\n",
    "To se može postići postavljanjem argumenta class_weight na vrijednost 'balanced_subsample'."
   ]
  },
  {
   "cell_type": "code",
   "execution_count": 32,
   "metadata": {},
   "outputs": [
    {
     "name": "stdout",
     "output_type": "stream",
     "text": [
      "Mean ROC AUC: 0.909\n"
     ]
    },
    {
     "data": {
      "image/png": "[encoded data removed]",
      "text/plain": [
       "<Figure size 432x288 with 1 Axes>"
      ]
     },
     "metadata": {
      "needs_background": "light"
     },
     "output_type": "display_data"
    },
    {
     "name": "stdout",
     "output_type": "stream",
     "text": [
      "Random Forest\n",
      "confusion matrix\n",
      "[[ 332  152]\n",
      " [ 635 7117]]\n",
      "sensitivity is %f 0.34332988624612204\n",
      "specificity is %f 0.9790892832576695\n",
      "accuracy is %f 0.9044439048081593\n",
      "balanced accuracy is % 0.6612095847518957\n",
      "AUPRC: %f 0.6184037706845286\n"
     ]
    }
   ],
   "source": [
    "modelRFC_bs = RandomForestClassifier(n_estimators=10, class_weight='balanced_subsample')\n",
    "# define evaluation procedure\n",
    "cv = RepeatedStratifiedKFold(n_splits=10, n_repeats=3, random_state=1)\n",
    "# evaluate model\n",
    "scores = cross_val_score(modelRFC_bs,  X_train, y_train, scoring='roc_auc', cv=cv, n_jobs=-1)\n",
    "# summarize performance\n",
    "print('Mean ROC AUC: %.3f' % mean(scores))\n",
    "\n",
    "modelRFC_bs.fit(X_train, y_train)\n",
    "pred_y_RFC_bs = modelRFC_bs.predict(X_test)\n",
    "pred_y_RFC_bs2 = modelRFC_bs.predict_proba(X_test)\n",
    "\n",
    "precision, recall, thresholds = precision_recall_curve(y_test, pred_y_RFC_bs2[:,1])\n",
    "\n",
    "no_skill = len(y_test[y_test==1]) / len(y_test)\n",
    "plt.plot([0, 1], [no_skill, no_skill], linestyle='--', label='No Skill')\n",
    "plt.plot(recall, precision, marker='.', label='RFC_bs')\n",
    "# axis labels\n",
    "plt.xlabel('Recall')\n",
    "plt.ylabel('Precision')\n",
    "# show the legend\n",
    "plt.legend()\n",
    "# show the plot\n",
    "plt.show()\n",
    "print('Random Forest')\n",
    "display_summary(y_test,pred_y_RFC_bs)\n",
    "\n",
    "auprc=auc(recall, precision)\n",
    "\n",
    "print('AUPRC: %f',auprc)"
   ]
  },
  {
   "cell_type": "markdown",
   "metadata": {},
   "source": [
    "### Slučajne šume s nasumičnim podvlačenjem\n",
    "\n",
    "Još jedna korisna izmjena slučajnih šuma je izvođenje ponovnog uzorkovanja podataka na bootstrap uzorku kako bi se izričito promijenila distribucija klasa.\n",
    "\n",
    "Klasa BalancedRandomForestClassifier izvodi slučajno smanjivanje uzoraka većinske klase u bootstrap uzorku. \n",
    "\n",
    "Očekivali bismo da će to imati dramatičniji učinak na performanse modela s obzirom na širi uspjeh tehnika preraspodjele podataka."
   ]
  },
  {
   "cell_type": "code",
   "execution_count": 34,
   "metadata": {},
   "outputs": [],
   "source": [
    "from imblearn.ensemble import BalancedRandomForestClassifier\n",
    "modelBRFC = BalancedRandomForestClassifier(n_estimators=10)"
   ]
  },
  {
   "cell_type": "code",
   "execution_count": 45,
   "metadata": {},
   "outputs": [
    {
     "name": "stdout",
     "output_type": "stream",
     "text": [
      "Mean ROC AUC: 0.932\n"
     ]
    },
    {
     "data": {
      "image/png": "[encoded data removed]",
      "text/plain": [
       "<Figure size 432x288 with 1 Axes>"
      ]
     },
     "metadata": {
      "needs_background": "light"
     },
     "output_type": "display_data"
    },
    {
     "name": "stdout",
     "output_type": "stream",
     "text": [
      "Random Forest\n",
      "confusion matrix\n",
      "[[ 322  153]\n",
      " [ 645 7116]]\n",
      "sensitivity is %f 0.3329886246122027\n",
      "specificity is %f 0.9789517127527858\n",
      "accuracy is %f 0.9031083050024283\n",
      "balanced accuracy is % 0.6559701686824942\n",
      "AUPRC: %f 0.6024821717966081\n"
     ]
    }
   ],
   "source": [
    "cv = RepeatedStratifiedKFold(n_splits=10, n_repeats=3, random_state=1)\n",
    "# evaluate model\n",
    "scores = cross_val_score(modelBRFC, X_train, y_train, scoring='roc_auc', cv=cv, n_jobs=-1)\n",
    "# summarize performance\n",
    "print('Mean ROC AUC: %.3f' % mean(scores))\n",
    "\n",
    "modelBRFC.fit(X_train, y_train)\n",
    "pred_y_BRFC = modelRFC_w.predict(X_test)\n",
    "pred_y_BRFC2 = modelRFC_w.predict_proba(X_test)\n",
    "\n",
    "precision, recall, thresholds = precision_recall_curve(y_test, pred_y_BRFC2[:,1])\n",
    "\n",
    "no_skill = len(y_test[y_test==1]) / len(y_test)\n",
    "plt.plot([0, 1], [no_skill, no_skill], linestyle='--', label='No Skill')\n",
    "plt.plot(recall, precision, marker='.', label='BRFC')\n",
    "# axis labels\n",
    "plt.xlabel('Recall')\n",
    "plt.ylabel('Precision')\n",
    "# show the legend\n",
    "plt.legend()\n",
    "# show the plot\n",
    "plt.show()\n",
    "print('Random Forest')\n",
    "display_summary(y_test,pred_y_BRFC)\n",
    "\n",
    "auprc=auc(recall, precision)\n",
    "\n",
    "print('AUPRC: %f',auprc)"
   ]
  },
  {
   "cell_type": "markdown",
   "metadata": {},
   "source": [
    "# XGBOOST\n",
    "\n",
    "XGBoost je kraći zapis za Extreme Gradient Boosting i to je ansambl stabala gdje nova stabla ispravljaju pogreške onih stabala koja su već dio modela. Stabla se dodaju sve dok se daljnja poboljšanja ne mogu napraviti.\n",
    "\n",
    "Također, to je stohastički algoritam za jačanje gradijenta, koji se naziva igradient boosting machines ili tree boosting, i snažna je tehnika strojnog učenja koja dobro ili čak najbolje funkcionira na širokom rasponu zahtjevnih problema strojnog učenja."
   ]
  },
  {
   "cell_type": "code",
   "execution_count": 46,
   "metadata": {},
   "outputs": [
    {
     "name": "stderr",
     "output_type": "stream",
     "text": [
      "C:\\Users\\Petra\\Anaconda3\\lib\\site-packages\\dask\\config.py:161: YAMLLoadWarning: calling yaml.load() without Loader=... is deprecated, as the default Loader is unsafe. Please read https://msg.pyyaml.org/load for full details.\n",
      "  data = yaml.load(f.read()) or {}\n",
      "C:\\Users\\Petra\\Anaconda3\\lib\\site-packages\\distributed\\config.py:20: YAMLLoadWarning: calling yaml.load() without Loader=... is deprecated, as the default Loader is unsafe. Please read https://msg.pyyaml.org/load for full details.\n",
      "  defaults = yaml.load(f)\n"
     ]
    }
   ],
   "source": [
    "from xgboost import XGBClassifier"
   ]
  },
  {
   "cell_type": "code",
   "execution_count": 47,
   "metadata": {},
   "outputs": [
    {
     "name": "stdout",
     "output_type": "stream",
     "text": [
      "Accuracy: 91.17%\n"
     ]
    }
   ],
   "source": [
    "modelXGB = XGBClassifier()\n",
    "modelXGB.fit(X_train, y_train)\n",
    "\n",
    "y_pred_XGB = modelXGB.predict(X_test)\n",
    "predictions_XGB = [round(value) for value in y_pred_XGB]\n",
    "\n",
    "accuracy_XGB = accuracy_score(y_test, predictions_XGB)\n",
    "print(\"Accuracy: %.2f%%\" % (accuracy_XGB * 100.0))"
   ]
  },
  {
   "cell_type": "code",
   "execution_count": 48,
   "metadata": {},
   "outputs": [
    {
     "data": {
      "image/png": "[encoded data removed]",
      "text/plain": [
       "<Figure size 432x288 with 1 Axes>"
      ]
     },
     "metadata": {
      "needs_background": "light"
     },
     "output_type": "display_data"
    },
    {
     "name": "stdout",
     "output_type": "stream",
     "text": [
      "Random Forest\n",
      "confusion matrix\n",
      "[[ 501  261]\n",
      " [ 466 7008]]\n",
      "sensitivity is %f 0.5180972078593589\n",
      "specificity is %f 0.9640940982253405\n",
      "accuracy is %f 0.9117289946576008\n",
      "balanced accuracy is % 0.7410956530423497\n",
      "AUPRC: %f 0.6670313600200964\n"
     ]
    }
   ],
   "source": [
    "y_proba_XGB = modelXGB.predict_proba(X_test) \n",
    "precision, recall, thresholds = precision_recall_curve(y_test, y_proba_XGB[:,1])\n",
    "\n",
    "no_skill = len(y_test[y_test==1]) / len(y_test)\n",
    "plt.plot([0, 1], [no_skill, no_skill], linestyle='--', label='No Skill')\n",
    "plt.plot(recall, precision, marker='.', label='XGBoost')\n",
    "# axis labels\n",
    "plt.xlabel('Recall')\n",
    "plt.ylabel('Precision')\n",
    "# show the legend\n",
    "plt.legend()\n",
    "# show the plot\n",
    "plt.show()\n",
    "print('Random Forest')\n",
    "display_summary(y_test,y_pred_XGB)\n",
    "\n",
    "auprc=auc(recall, precision)\n",
    "\n",
    "print('AUPRC: %f',auprc)"
   ]
  },
  {
   "cell_type": "code",
   "execution_count": 49,
   "metadata": {},
   "outputs": [
    {
     "name": "stdout",
     "output_type": "stream",
     "text": [
      "Mean ROC AUC: 0.94618\n"
     ]
    }
   ],
   "source": [
    "cv = RepeatedStratifiedKFold(n_splits=10, n_repeats=3, random_state=1)\n",
    "scores = cross_val_score(modelXGB, X_train, y_train, scoring='roc_auc', cv=cv, n_jobs=-1)\n",
    "print('Mean ROC AUC: %.5f' % mean(scores))"
   ]
  },
  {
   "cell_type": "markdown",
   "metadata": {},
   "source": [
    "## Promjena funkcije troška\n",
    "\n",
    "Možemo promijeniti ciljnu funkciju tako da uzmemo u obzir da trošak false pozitivnih i false negativnih vrijednosti ne može biti isti, a trošak oba može varirati ovisno o detaljima iz primjera. U našem slučaju, to bismo mogli objasniti ovako: cijena false pozitivnog može biti trošak vremena za pozivanje takvih korisnika, dok trošak false negativnog može biti gubitak korisnika koji bi ugovorio depozit, a zbog procjene ga se ne nazove.\n",
    "\n",
    "Možemo promijeniti svoju ciljnu funkciju da to odražavamo. Na primjer, standardna funkcija gubitka logističke regresije je negativna log-likelihood funkcija \n",
    "\n",
    "$$ \\sum_{i=1}^{N} [-y_i \\log(h(X)^{(i)})) - (1-y_i)\\log(1-h(X)^{(i)})), ] $$ gdje $ h(X)^{(i)} $ označava $ P(y = 1 | X^{(i)}) $.\n",
    "\n",
    "Međutim, ako kažemo da svako opažanje ima neki true pozitivan $C_ {TP_i}$, true negativan $C_ {TN_i}$, false pozitivan $C_ {FP_i}$ i false negativan trošak $C_ {FN_i}$ povezan s njim, možemo koristiti sljedeću objektivnu funkciju:\n",
    "\n",
    "$$ \\frac{1}{N} \\sum_{i=1}^{N} [ y_i \\left(  \\log(h(X)^{(i)})C_{TP_i} + (1-\\log(h(X)^{(i)})C_{FN_i}) \\right) + (1-y_i)\\left( \\log(h(X)^{(i)})C_{FP_i} + (1-\\log(h(X)^{(i)})C_{TN_i}) \\right)]. $$\n",
    "\n",
    "\n",
    "### COSTCLA paket"
   ]
  },
  {
   "cell_type": "code",
   "execution_count": 36,
   "metadata": {},
   "outputs": [],
   "source": [
    "import scipy\n",
    "from costcla.metrics import cost_loss, savings_score\n",
    "from costcla.models import CostSensitiveLogisticRegression, CostSensitiveDecisionTreeClassifier, CostSensitiveRandomForestClassifier"
   ]
  },
  {
   "cell_type": "markdown",
   "metadata": {},
   "source": [
    "Postavljamo troškove true positive i true negative na  $0$. Za trošak false negativea uzimamo fiksnu vrijednost koja predstavlja gubitak profita zbog propusta mušterije. Cijenu false positivea računamo kao zbroj cijene poziva i plaće telefonskog. Konkretnije, računamo da je cijena poziva  $30$  eura po satu plus minimana plaća u Portugalu za  $2019$. godinu po satu. To množimo s brojem poziva te trajanjem zadnjeg poziva."
   ]
  },
  {
   "cell_type": "code",
   "execution_count": 37,
   "metadata": {},
   "outputs": [],
   "source": [
    "cost_mat_train = np.zeros((len(train_y),4))\n",
    "cost_mat_train[:,0]=1\n",
    "cost_mat_train[:,1]=1000\n",
    " \n",
    "cost_mat_test = np.zeros((len(test_y),4))\n",
    "cost_mat_test[:,0]=1\n",
    "cost_mat_test[:,1]=1000\n",
    "\n",
    "cost_mat_train_dtc = np.zeros((len(y_train),4))\n",
    "cost_mat_train_dtc[:,0]=1\n",
    "cost_mat_train_dtc[:,1]=1000\n",
    " \n",
    "cost_mat_test_dtc = np.zeros((len(y_test),4))\n",
    "cost_mat_test_dtc[:,0]=1\n",
    "cost_mat_test_dtc[:,1]=1000\n",
    "\n",
    "for i in range(len(train_y)):\n",
    "    cost_mat_train[i,0] = ( 30+ 4.38 )* train_x[\"campaign\"].values[i] *max(train_x[\"duration\"].values[i],1)/3600.0\n",
    "for i in range(len(y_train)):\n",
    "    cost_mat_train_dtc[i,0] = (30+ 4.38) * X_train[\"campaign\"].values[i] *max(X_train[\"duration\"].values[i],1)/3600.0\n",
    "for i in range(len(test_y)):\n",
    "    cost_mat_test[i,0] = (30+ 4.38) * test_x[\"campaign\"].values[i] *max(test_x[\"duration\"].values[i],1)/3600.0\n",
    "for i in range(len(y_test)):\n",
    "    cost_mat_test_dtc[i,0] = (30 + 4.38) * X_test[\"campaign\"].values[i]*max(X_test[\"duration\"].values[i],1)/3600.0"
   ]
  },
  {
   "cell_type": "code",
   "execution_count": 38,
   "metadata": {},
   "outputs": [],
   "source": [
    "g = CostSensitiveRandomForestClassifier()\n",
    "g.fit(np.array(X_train), np.array(y_train), cost_mat_train_dtc)\n",
    "y_pred_rf_cslr=g.predict(np.array(X_test))"
   ]
  },
  {
   "cell_type": "code",
   "execution_count": 39,
   "metadata": {},
   "outputs": [],
   "source": [
    "h = CostSensitiveDecisionTreeClassifier()\n",
    "h.fit(np.array(X_train), np.array(y_train), cost_mat_train_dtc)\n",
    "y_pred_tree_cslr = h.predict(np.array(X_test))"
   ]
  },
  {
   "cell_type": "code",
   "execution_count": 40,
   "metadata": {},
   "outputs": [
    {
     "name": "stdout",
     "output_type": "stream",
     "text": [
      "naive: random forest\n",
      "584525.402\n",
      "naive: decision tree\n",
      "466392.99005\n",
      "random forest: cost sensitve learning\n",
      "36512.73465000001\n",
      "decision tree: cost sensitve learning\n",
      "35452.0257\n"
     ]
    }
   ],
   "source": [
    "print('naive: random forest')\n",
    "print(cost_loss(y_test,pred_y_RFC,cost_mat_test_dtc))\n",
    "print('naive: decision tree')\n",
    "print(cost_loss(y_test,y_pred_tree,cost_mat_test_dtc))\n",
    "print('random forest: cost sensitve learning')\n",
    "print(cost_loss(y_test,y_pred_rf_cslr,cost_mat_test_dtc))\n",
    "print('decision tree: cost sensitve learning')\n",
    "print(cost_loss(y_test,y_pred_tree_cslr,cost_mat_test_dtc))"
   ]
  },
  {
   "cell_type": "code",
   "execution_count": 44,
   "metadata": {},
   "outputs": [],
   "source": [
    "f = CostSensitiveLogisticRegression()\n",
    "f.fit(np.array(train_x),np.array(train_y), cost_mat_train)\n",
    "y_pred_logistic_cslr = f.predict(test_x)"
   ]
  },
  {
   "cell_type": "code",
   "execution_count": 43,
   "metadata": {},
   "outputs": [
    {
     "name": "stdout",
     "output_type": "stream",
     "text": [
      "naive: logistic regression\n",
      "265492.99925\n",
      "logistic: cost sensitve learning\n",
      "19366.330800000003\n"
     ]
    }
   ],
   "source": [
    "print('naive: logistic regression')\n",
    "print(cost_loss(test_y,y_pred_logistic,cost_mat_test))\n",
    "\n",
    "print('logistic: cost sensitve learning')\n",
    "print(cost_loss(test_y,y_pred_logistic_cslr,cost_mat_test))"
   ]
  },
  {
   "cell_type": "code",
   "execution_count": null,
   "metadata": {},
   "outputs": [],
   "source": []
  }
 ],
 "metadata": {
  "kernelspec": {
   "display_name": "Python 3",
   "language": "python",
   "name": "python3"
  },
  "language_info": {
   "codemirror_mode": {
    "name": "ipython",
    "version": 3
   },
   "file_extension": ".py",
   "mimetype": "text/x-python",
   "name": "python",
   "nbconvert_exporter": "python",
   "pygments_lexer": "ipython3",
   "version": "3.7.6"
  }
 },
 "nbformat": 4,
 "nbformat_minor": 4
}
